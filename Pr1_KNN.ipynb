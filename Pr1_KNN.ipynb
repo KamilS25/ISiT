{
  "nbformat": 4,
  "nbformat_minor": 0,
  "metadata": {
    "colab": {
      "provenance": [],
      "authorship_tag": "ABX9TyPW7kSZ/vzO0xrBydYRdcwG",
      "include_colab_link": true
    },
    "kernelspec": {
      "name": "python3",
      "display_name": "Python 3"
    },
    "language_info": {
      "name": "python"
    }
  },
  "cells": [
    {
      "cell_type": "markdown",
      "metadata": {
        "id": "view-in-github",
        "colab_type": "text"
      },
      "source": [
        "<a href=\"https://colab.research.google.com/github/KamilS25/ISiT/blob/main/Pr1_KNN.ipynb\" target=\"_parent\"><img src=\"https://colab.research.google.com/assets/colab-badge.svg\" alt=\"Open In Colab\"/></a>"
      ]
    },
    {
      "cell_type": "markdown",
      "source": [
        "**Практическая работа №1**. Классификация методом к-ближайших соседей\n",
        "**Группа**: БСМО-11-25\n",
        "**Рабочая группа**: Салахетдинов Камиль, Пылин Олег, Дели Валерия, Мокрецов Егор(БСМО-12-25)"
      ],
      "metadata": {
        "id": "9rIgMXvuJKKW"
      }
    },
    {
      "cell_type": "code",
      "source": [
        "import pandas as pd\n",
        "import numpy as np\n",
        "import matplotlib.pyplot as plt\n",
        "from collections import Counter"
      ],
      "metadata": {
        "id": "rQPlm9sLJoQO"
      },
      "execution_count": 38,
      "outputs": []
    },
    {
      "cell_type": "markdown",
      "source": [
        "**Первичная обработка данных**\n"
      ],
      "metadata": {
        "id": "hFjoc6U5IWXe"
      }
    },
    {
      "cell_type": "code",
      "source": [
        "df = pd.read_csv('Датасет CSV.csv', sep='\\t', encoding='utf-8')\n",
        "\n",
        "columns = [\n",
        "    'phone_os', 'gender', 'siblings', 'pc_os', 'taxi_rides',\n",
        "    'mobile_games', 'living_area', 'camera_important', 'federal_district',\n",
        "    'payment_method', 'phone_change_years', 'employment', 'smart_home',\n",
        "    'it_work', 'watch_type', 'max_budget', 'charges_per_day',\n",
        "    'browser', 'love_tech', 'customize_important', 'material_important'\n",
        "] # С кириллицей работать неудобно, поэтому переименовали столбцы\n",
        "df.columns = columns\n",
        "\n",
        "print(df.head())\n",
        "print(f\"Размер датасета: {df.shape}\")\n",
        "\n",
        "print(f\"Проверка на пропуски: {df.isnull().sum().sum()}\")"
      ],
      "metadata": {
        "colab": {
          "base_uri": "https://localhost:8080/"
        },
        "id": "fvKsSD12E5sm",
        "outputId": "ffebb573-eb15-4032-e79b-692115cb6c2c"
      },
      "execution_count": 39,
      "outputs": [
        {
          "output_type": "stream",
          "name": "stdout",
          "text": [
            "   phone_os  gender  siblings  pc_os  taxi_rides  mobile_games  living_area  \\\n",
            "0         1       1         1      1          20             1            5   \n",
            "1         1       2         0      2          15             2            4   \n",
            "2         1       1         2      1           1             2            4   \n",
            "3         2       1         0      1           0             2            7   \n",
            "4         1       1         0      1           0             2            4   \n",
            "\n",
            "   camera_important  federal_district  payment_method  ...  employment  \\\n",
            "0                 1                 1               1  ...           2   \n",
            "1                 1                 6               1  ...           2   \n",
            "2                 1                 1               1  ...           3   \n",
            "3                 1                 1               1  ...           2   \n",
            "4                 1                 1               1  ...           3   \n",
            "\n",
            "   smart_home  it_work  watch_type  max_budget  charges_per_day  browser  \\\n",
            "0           2        2           2      120000                2        2   \n",
            "1           2        1           3      120000                1        3   \n",
            "2           1        1           3      100000                2        2   \n",
            "3           1        1           3       30000                1        1   \n",
            "4           2        1           3       90000                1        1   \n",
            "\n",
            "   love_tech  customize_important  material_important  \n",
            "0          4                    2                   1  \n",
            "1          3                    2                   1  \n",
            "2          5                    1                   1  \n",
            "3          5                    1                   1  \n",
            "4          4                    1                   1  \n",
            "\n",
            "[5 rows x 21 columns]\n",
            "Размер датасета: (33, 21)\n",
            "Проверка на пропуски: 0\n"
          ]
        }
      ]
    },
    {
      "cell_type": "markdown",
      "source": [
        "**Нормализация данных методом Min-Max Scaling**\n",
        "\n",
        "Суть данной нормализации заключается в том, чтобы привести все данные к единому виду (значения от 0 до 1)\n",
        "\n",
        "1. Находим наименьшую переменную и наибольшую\n",
        "\n",
        "2. Расчет по формуле x_normalized = (x - min) / (max - min)"
      ],
      "metadata": {
        "id": "lV7iWUKzItfu"
      }
    },
    {
      "cell_type": "code",
      "source": [
        "def normalize_data(df):\n",
        "    df_normalized = df.copy()\n",
        "    for column in df_normalized.columns:\n",
        "        if column != 'phone_os':  # Целевая переменная не нормализуется\n",
        "            min_val = df_normalized[column].min()\n",
        "            max_val = df_normalized[column].max()\n",
        "            if max_val != min_val:\n",
        "                df_normalized[column] = (df_normalized[column] - min_val) / (max_val - min_val)\n",
        "    return df_normalized\n",
        "\n",
        "df_normalized = normalize_data(df)\n",
        "print(\"Нормализованные данные:\")\n",
        "print(df_normalized.head())"
      ],
      "metadata": {
        "colab": {
          "base_uri": "https://localhost:8080/"
        },
        "id": "wTJEo0zIFGsG",
        "outputId": "9eb2dd6f-5f36-4ca9-da3e-c23bbaf5212f"
      },
      "execution_count": 40,
      "outputs": [
        {
          "output_type": "stream",
          "name": "stdout",
          "text": [
            "Нормализованные данные:\n",
            "   phone_os  gender  siblings  pc_os  taxi_rides  mobile_games  living_area  \\\n",
            "0         1     0.0       0.2    0.0    0.285714           0.0          0.6   \n",
            "1         1     1.0       0.0    0.5    0.214286           1.0          0.4   \n",
            "2         1     0.0       0.4    0.0    0.014286           1.0          0.4   \n",
            "3         2     0.0       0.0    0.0    0.000000           1.0          1.0   \n",
            "4         1     0.0       0.0    0.0    0.000000           1.0          0.4   \n",
            "\n",
            "   camera_important  federal_district  payment_method  ...  employment  \\\n",
            "0               0.0               0.0             0.0  ...         0.5   \n",
            "1               0.0               1.0             0.0  ...         0.5   \n",
            "2               0.0               0.0             0.0  ...         1.0   \n",
            "3               0.0               0.0             0.0  ...         0.5   \n",
            "4               0.0               0.0             0.0  ...         1.0   \n",
            "\n",
            "   smart_home  it_work  watch_type  max_budget  charges_per_day  browser  \\\n",
            "0         1.0      1.0         0.5    0.578947              0.2      0.2   \n",
            "1         1.0      0.0         1.0    0.578947              0.0      0.4   \n",
            "2         0.0      0.0         1.0    0.473684              0.2      0.2   \n",
            "3         0.0      0.0         1.0    0.105263              0.0      0.0   \n",
            "4         1.0      0.0         1.0    0.421053              0.0      0.0   \n",
            "\n",
            "   love_tech  customize_important  material_important  \n",
            "0        0.5                  1.0                 0.0  \n",
            "1        0.0                  1.0                 0.0  \n",
            "2        1.0                  0.0                 0.0  \n",
            "3        1.0                  0.0                 0.0  \n",
            "4        0.5                  0.0                 0.0  \n",
            "\n",
            "[5 rows x 21 columns]\n"
          ]
        }
      ]
    },
    {
      "cell_type": "markdown",
      "source": [
        "**Разделение на обучающую и тестовую выборки**\n",
        "\n",
        "Берем 30% от датасета рандомным образом в качестве обучающих данных"
      ],
      "metadata": {
        "id": "nwEwIIxALGbH"
      }
    },
    {
      "cell_type": "code",
      "source": [
        "def train_test_split(df, test_size=0.3, random_state=None):\n",
        "    if random_state:\n",
        "        np.random.seed(random_state)\n",
        "\n",
        "    n = len(df)\n",
        "    test_indices = np.random.choice(n, size=int(n * test_size), replace=False)\n",
        "    train_indices = [i for i in range(n) if i not in test_indices]\n",
        "\n",
        "    X_train = df.iloc[train_indices, 1:].values  # Все признаки кроме phone_os\n",
        "    y_train = df.iloc[train_indices, 0].values   # phone_os\n",
        "    X_test = df.iloc[test_indices, 1:].values\n",
        "    y_test = df.iloc[test_indices, 0].values\n",
        "\n",
        "    return X_train, X_test, y_train, y_test\n",
        "\n",
        "X_train, X_test, y_train, y_test = train_test_split(df_normalized, test_size=0.3, random_state=42)\n",
        "\n",
        "print(\"Размеры выборок:\")\n",
        "print(f\"Обучающая: X_train {X_train.shape}, y_train {y_train.shape}\")\n",
        "print(f\"Тестовая: X_test {X_test.shape}, y_test {y_test.shape}\")"
      ],
      "metadata": {
        "colab": {
          "base_uri": "https://localhost:8080/"
        },
        "id": "DbGH_QzZFHY0",
        "outputId": "78c8f984-b5f9-49fb-8a29-d1aa8fef44f6"
      },
      "execution_count": 41,
      "outputs": [
        {
          "output_type": "stream",
          "name": "stdout",
          "text": [
            "Размеры выборок:\n",
            "Обучающая: X_train (24, 20), y_train (24,)\n",
            "Тестовая: X_test (9, 20), y_test (9,)\n"
          ]
        }
      ]
    },
    {
      "cell_type": "markdown",
      "source": [
        "**Реализация метода к-ближайших соседей**\n",
        "\n",
        "1. **Вычисление расстояний**: Евклидово расстояние  √Σ(x_i - y_i)²\n",
        "2. **Соседи**: Смотрим на ближайших соседей и подсчитываем их в словаре, проводятся испытания с разным количеством соседей, но берем только нечетные, чтобы не возникло ситуации, когда у нас одинаковое количество соседей у одной метки\n",
        "3. **Итог**: Присваиваем класс метке в зависимости от соседей"
      ],
      "metadata": {
        "id": "JDS0rOXYMPBQ"
      }
    },
    {
      "cell_type": "code",
      "source": [
        "class KNNClassifier:\n",
        "    def __init__(self, k):\n",
        "        self.k = k\n",
        "\n",
        "    def calculate_distance(self, x1, x2):\n",
        "        \"\"\"Вычисление расстояния между двумя точками\"\"\"\n",
        "        return np.sqrt(np.sum((x1 - x2) ** 2))\n",
        "\n",
        "\n",
        "    def fit(self, X, y):\n",
        "        \"\"\"Сохраняем обучающие данные\"\"\"\n",
        "        self.X_train = X\n",
        "        self.y_train = y\n",
        "\n",
        "    def predict(self, X):\n",
        "        \"\"\"Предсказание для набора данных\"\"\"\n",
        "        predictions = [self._predict(x) for x in X]\n",
        "        return np.array(predictions)\n",
        "\n",
        "    def _predict(self, x):\n",
        "        \"\"\"Предсказание для одного образца\"\"\"\n",
        "        # Вычисляем расстояния до всех точек обучающей выборки\n",
        "        distances = [self.calculate_distance(x, x_train) for x_train in self.X_train]\n",
        "\n",
        "        # Получаем индексы k ближайших соседей\n",
        "        k_indices = np.argsort(distances)[:self.k]\n",
        "\n",
        "        # Получаем метки k ближайших соседей\n",
        "        k_nearest_labels = [self.y_train[i] for i in k_indices]\n",
        "\n",
        "        # Возвращаем наиболее частую метку\n",
        "        most_common = Counter(k_nearest_labels).most_common(1)\n",
        "        return most_common[0][0]"
      ],
      "metadata": {
        "id": "X1jAdYAbFRb0"
      },
      "execution_count": 42,
      "outputs": []
    },
    {
      "cell_type": "markdown",
      "source": [
        "**Обучение и оценка точности модели для разного количества соседей**\n",
        "\n",
        "**Метрика**: точность (Кол-во правильных) / (Всего)\n",
        "         = TP + TN / (TP + TN + FP + FN)"
      ],
      "metadata": {
        "id": "5ph6I_A_PshZ"
      }
    },
    {
      "cell_type": "code",
      "source": [
        "k_values = range(1, 16, 2)\n",
        "accuracies = []\n",
        "\n",
        "print(\"Точность для разных k:\")\n",
        "print(\"k\\tТочность\")\n",
        "print(\"-\" * 15)\n",
        "\n",
        "for k in k_values:\n",
        "    knn = KNNClassifier(k=k)\n",
        "    knn.fit(X_train, y_train)\n",
        "    predictions = knn.predict(X_test)\n",
        "\n",
        "    accuracy = np.sum(predictions == y_test) / len(y_test)\n",
        "    accuracies.append(accuracy)\n",
        "    print(f\"{k}\\t{accuracy:.4f}\")"
      ],
      "metadata": {
        "colab": {
          "base_uri": "https://localhost:8080/"
        },
        "id": "H3sqqbr8FWqk",
        "outputId": "927f929e-19b4-4364-db36-8cacf3464572"
      },
      "execution_count": 43,
      "outputs": [
        {
          "output_type": "stream",
          "name": "stdout",
          "text": [
            "Точность для разных k:\n",
            "k\tТочность\n",
            "---------------\n",
            "1\t0.7778\n",
            "3\t0.5556\n",
            "5\t0.5556\n",
            "7\t0.5556\n",
            "9\t0.4444\n",
            "11\t0.5556\n",
            "13\t0.4444\n",
            "15\t0.6667\n"
          ]
        }
      ]
    },
    {
      "cell_type": "markdown",
      "source": [
        "**Визуализация результатов**\n",
        "\n",
        "График зависимости точности от количества соседей"
      ],
      "metadata": {
        "id": "BlDJ2ssqRPoQ"
      }
    },
    {
      "cell_type": "code",
      "source": [
        "\n",
        "plt.figure(figsize=(10, 6))\n",
        "plt.plot(k_values, accuracies, marker='o', linestyle='-', color='b')\n",
        "plt.title('Зависимость точности модели от количества соседей')\n",
        "plt.xlabel('Количество соседей (k)')\n",
        "plt.ylabel('Точность')\n",
        "plt.grid(True, alpha=0.3)\n",
        "plt.xticks(k_values)\n",
        "plt.show()"
      ],
      "metadata": {
        "colab": {
          "base_uri": "https://localhost:8080/",
          "height": 564
        },
        "id": "P9UmWxfKFaMs",
        "outputId": "0b15b564-82cc-4bf9-867b-f11c1abf324a"
      },
      "execution_count": 44,
      "outputs": [
        {
          "output_type": "display_data",
          "data": {
            "text/plain": [
              "<Figure size 1000x600 with 1 Axes>"
            ],
            "image/png": "[encoded data removed]"
          },
          "metadata": {}
        }
      ]
    },
    {
      "cell_type": "markdown",
      "source": [
        "**Анализ важности признаков**\n",
        "\n",
        "Проводим предсказания, последовательно исключая признаки и сравниваем результаты\n",
        "\n",
        "**Формула**: Точность со всеми - точность без признака."
      ],
      "metadata": {
        "id": "LeXF0NNjRgmB"
      }
    },
    {
      "cell_type": "code",
      "source": [
        "def feature_importance_analysis(df, k=5, n_iterations=10):\n",
        "    \"\"\"Анализ важности признаков путем их последовательного исключения\"\"\"\n",
        "    feature_names = df.columns[1:]  # Все признаки кроме целевого\n",
        "    base_accuracies = []\n",
        "    feature_importance = {}\n",
        "\n",
        "    print(\"Топ-5 самых важных признаков:\")\n",
        "    print(\"Признак\\t\\t\\tСредняя точность\")\n",
        "    print(\"-\" * 60)\n",
        "\n",
        "    # Базовая точность со всеми признаками\n",
        "    for i in range(n_iterations):\n",
        "        X_train, X_test, y_train, y_test = train_test_split(df_normalized, test_size=0.3, random_state=i)\n",
        "        knn = KNNClassifier(k=k)\n",
        "        knn.fit(X_train, y_train)\n",
        "        predictions = knn.predict(X_test)\n",
        "        base_accuracy = np.sum(predictions == y_test) / len(y_test)\n",
        "        base_accuracies.append(base_accuracy)\n",
        "\n",
        "    base_avg_accuracy = np.mean(base_accuracies)\n",
        "\n",
        "    # Оценка важности каждого признака\n",
        "    for feature_name in feature_names:\n",
        "        accuracies_without_feature = []\n",
        "\n",
        "        for i in range(n_iterations):\n",
        "            # Создаем копию данных без текущего признака\n",
        "            temp_df = df_normalized.drop(columns=[feature_name])\n",
        "\n",
        "            # Разделяем данные без этого признака\n",
        "            X_train_temp = temp_df.iloc[:, 1:].values  # Все признаки кроме phone_os\n",
        "            y_train_temp = temp_df.iloc[:, 0].values   # phone_os\n",
        "\n",
        "            n = len(temp_df)\n",
        "            test_indices = np.random.choice(n, size=int(n * 0.3), replace=False)\n",
        "            train_indices = [i for i in range(n) if i not in test_indices]\n",
        "\n",
        "            X_train = X_train_temp[train_indices]\n",
        "            X_test = X_train_temp[test_indices]\n",
        "            y_train = y_train_temp[train_indices]\n",
        "            y_test = y_train_temp[test_indices]\n",
        "\n",
        "            knn = KNNClassifier(k=k)\n",
        "            knn.fit(X_train, y_train)\n",
        "            predictions = knn.predict(X_test)\n",
        "            accuracy = np.sum(predictions == y_test) / len(y_test)\n",
        "            accuracies_without_feature.append(accuracy)\n",
        "\n",
        "        avg_accuracy_without = np.mean(accuracies_without_feature)\n",
        "        importance = base_avg_accuracy - avg_accuracy_without\n",
        "        feature_importance[feature_name] = importance\n",
        "\n",
        "\n",
        "    sorted_features = sorted(feature_importance.items(), key=lambda x: abs(x[1]), reverse=True)\n",
        "\n",
        "    for feature, importance in sorted_features[:5]:\n",
        "        print(f\"{feature}: \\t\\t{importance:.4f}\")\n",
        "\n",
        "    return sorted_features\n"
      ],
      "metadata": {
        "id": "p2gTbUEyFgBk"
      },
      "execution_count": 55,
      "outputs": []
    },
    {
      "cell_type": "markdown",
      "source": [
        "**Вывод результатов по определению самых важных признаков**"
      ],
      "metadata": {
        "id": "wJXFugHcSVBG"
      }
    },
    {
      "cell_type": "code",
      "source": [
        "important_features = feature_importance_analysis(df, k=5)\n",
        "print(\"\\n\" + \"=\"*60)\n",
        "print(\"Сравнение точности модели со всеми признаками и без важных\")\n",
        "print(\"=\"*60)\n",
        "\n",
        "# Модель со всеми признаками\n",
        "X_train, X_test, y_train, y_test = train_test_split(df_normalized, test_size=0.3, random_state=42)\n",
        "knn_full = KNNClassifier(k=5)\n",
        "knn_full.fit(X_train, y_train)\n",
        "predictions_full = knn_full.predict(X_test)\n",
        "accuracy_full = np.sum(predictions_full == y_test) / len(y_test)\n",
        "\n",
        "# Модель без топ-3 важных признаков\n",
        "top_3_important = [feature for feature, _ in important_features[:3]]\n",
        "print(f\"Удаляем 3 самых важных признака: {top_3_important}\")\n",
        "\n",
        "columns_to_keep = ['phone_os'] + [col for col in df_normalized.columns if col not in top_3_important and col != 'phone_os']\n",
        "df_reduced = df_normalized[columns_to_keep]\n",
        "\n",
        "X_train_red = df_reduced.iloc[:, 1:].values\n",
        "y_train_red = df_reduced.iloc[:, 0].values\n",
        "\n",
        "n = len(df_reduced)\n",
        "test_indices = np.random.choice(n, size=int(n * 0.3), replace=False)\n",
        "train_indices = [i for i in range(n) if i not in test_indices]\n",
        "\n",
        "X_train_red_final = X_train_red[train_indices]\n",
        "X_test_red_final = X_train_red[test_indices]\n",
        "y_train_red_final = y_train_red[train_indices]\n",
        "y_test_red_final = y_train_red[test_indices]\n",
        "\n",
        "knn_reduced = KNNClassifier(k=5)\n",
        "knn_reduced.fit(X_train_red_final, y_train_red_final)\n",
        "predictions_reduced = knn_reduced.predict(X_test_red_final)\n",
        "accuracy_reduced = np.sum(predictions_reduced == y_test_red_final) / len(y_test_red_final)\n",
        "\n",
        "print(\"Результаты:\")\n",
        "print(f\"Точность со всеми признаками: {accuracy_full:.4f}\")\n",
        "print(f\"Точность без важных признаков: {accuracy_reduced:.4f}\")\n",
        "print(f\"Разница в точности: {accuracy_full - accuracy_reduced:.4f}\")"
      ],
      "metadata": {
        "colab": {
          "base_uri": "https://localhost:8080/"
        },
        "id": "YkD_AoEJFkc0",
        "outputId": "78b5250e-7a2f-4ad9-e50e-1885febbe337"
      },
      "execution_count": 56,
      "outputs": [
        {
          "output_type": "stream",
          "name": "stdout",
          "text": [
            "Топ-5 самых важных признаков:\n",
            "Признак\t\t\tСредняя точность\n",
            "------------------------------------------------------------\n",
            "it_work: \t\t-0.1556\n",
            "customize_important: \t\t-0.1556\n",
            "mobile_games: \t\t-0.1333\n",
            "camera_important: \t\t-0.1333\n",
            "pc_os: \t\t-0.1111\n",
            "\n",
            "============================================================\n",
            "Сравнение точности модели со всеми признаками и без важных\n",
            "============================================================\n",
            "Удаляем 3 самых важных признака: ['it_work', 'customize_important', 'mobile_games']\n",
            "Результаты:\n",
            "Точность со всеми признаками: 0.5556\n",
            "Точность без важных признаков: 0.2222\n",
            "Разница в точности: 0.3333\n"
          ]
        }
      ]
    },
    {
      "cell_type": "markdown",
      "source": [
        "**Выводы**\n",
        "\n",
        "1. Модель показала наилучший результат при одном соседе (78%), это обуславливается тем, что у нас маленький датасет, в котором мало шума. В реальности, при большем датасете оптимально выбирать большее количество соседей. В основном, на данной моделе приемлимо использовать 5, 7, 9 соседей (56%). Да, точность кажется плохой, но это характеризуется тем, что датасет очень маленький.\n",
        "2. Было выявлено 5 самых важных признаков:\n",
        "*   it_work (работа в IT) - IT специалисты больше предпочитают Android (с реальным миром не особо коррелирует будто)\n",
        "*   customize_important (важность кастомизации) - тут ничего удивительно, пользователи Android предпочитают настройку интерфейса, так как данная ОС это позволяет\n",
        "* mobile_games (игры в мобильные игры) - скорее всего, играет роль высокой производительности. Iphone\n",
        "*camera_important (важность камеры) - пользователи, которым важна камера больше предпочитают Iphone\n",
        "*pc_os (операционная система на ПК) - тут логично, так как Mac предоставляет возможность использования экосистемы вместе с использованием Iphone, Android пользователям это не так важно\n",
        "3. Было проведено тестирование без трех самых важных признаков, результаты отличались на 33%.\n",
        "\n",
        "Исследование было проведено на маленьком датасете, который состоит из 33 опрошенных, такое количество данных является катастрофически маленьким для заключения о точности. Цель изучения алгоритма классификации к-ближайших соседей была достигнута, так как был написан и проанализирвоан данный алгоритм.\n"
      ],
      "metadata": {
        "id": "LDA__StMVQ8Y"
      }
    },
    {
      "cell_type": "code",
      "source": [],
      "metadata": {
        "id": "QyuOnPTnVp9I"
      },
      "execution_count": null,
      "outputs": []
    }
  ]
}
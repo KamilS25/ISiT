{
{  
  "cells": [
    {
      "cell_type": "markdown",
      "metadata": {
        "id": "view-in-github",
        "colab_type": "text"
      },
      "source": [
        "<a href=\"https://colab.research.google.com/github/KamilS25/ISiT/blob/main/pr3_LLM.ipynb\" target=\"_parent\"><img src=\"https://colab.research.google.com/assets/colab-badge.svg\" alt=\"Open In Colab\"/></a>"
      ]
    },
    {
      "cell_type": "code",
      "execution_count": null,
      "metadata": {
        "id": "Shdr5l1RlTQG"
      },
      "outputs": [],
      "source": [
        "import pandas as pd\n",
        "import torch\n",
        "from PIL import Image\n",
        "from transformers import (\n",
        "    Blip2Processor, Blip2ForConditionalGeneration,\n",
        "    VisionEncoderDecoderModel, ViTImageProcessor, AutoTokenizer\n",
        ")\n",
        "import os\n",
        "from sklearn.metrics import accuracy_score, precision_score, recall_score, confusion_matrix\n",
        "import matplotlib.pyplot as plt\n",
        "import seaborn as sns"
      ]
    },
    {
      "cell_type": "markdown",
      "source": [
        "Для работы выбраны две LLM:\n",
        "\n",
        "1. Blip-2 (эта модель пооедрживает промты, но для более честного сравнения обе модели будут выдавать только описание фотографии)\n",
        "\n",
        "2. Vit-GPT2 (Так как эта модель может только описывать картинку, то мы будем парсить ее ответ и выявлять, она описала военную или граждансую машину, для этого создадим список с ключевыми словами по военным и гражданским машинам)"
      ],
      "metadata": {
        "id": "zk_g7xJbmKOM"
      }
    },
    {
      "cell_type": "code",
      "source": [
        "device = \"cuda\" if torch.cuda.is_available() else \"cpu\"\n",
        "\n",
        "# Ключевые слова для классификации ViT-GPT2\n",
        "military_keywords = [\n",
        "    'military', 'army', 'camouflage', 'tactical', 'hummer',\n",
        "    'armored', 'soldier', 'combat', 'defense', 'weapon',\n",
        "    'camouflaged', 'uniform', 'barracks', 'patrol',\n",
        "    'war', 'battle', 'troop', 'commando', 'special forces'\n",
        "]\n",
        "\n",
        "civilian_keywords = [\n",
        "    'civilian', 'suv', 'car', 'vehicle', 'city', 'urban',\n",
        "    'family', 'street', 'road', 'passenger',\n",
        "    'red', 'blue', 'silver', 'modern', 'shiny', 'chrome',\n",
        "    'luxury', 'comfort', 'sedan', 'hatchback', 'minivan'\n",
        "]\n"
      ],
      "metadata": {
        "id": "EZWC_9ZrmFE1"
      },
      "execution_count": null,
      "outputs": []
    },
    {
      "cell_type": "markdown",
      "source": [
        "Функции для иницирования LLM моделей"
      ],
      "metadata": {
        "id": "1j2pDO5smwDj"
      }
    },
    {
      "cell_type": "code",
      "source": [
        "def load_blip2_model():\n",
        "    \"\"\"Загрузка BLIP-2 модели\"\"\"\n",
        "    blip2_processor = Blip2Processor.from_pretrained(\"Salesforce/blip2-opt-6.7b\")\n",
        "    blip2_model = Blip2ForConditionalGeneration.from_pretrained(\n",
        "        \"Salesforce/blip2-opt-2.7b\",\n",
        "        torch_dtype=torch.float16,\n",
        "        device_map=\"auto\"\n",
        "    )\n",
        "    print(\"BLIP-2 модель загружена\")\n",
        "    return blip2_processor, blip2_model\n",
        "\n",
        "def load_vit_gpt2_model():\n",
        "    \"\"\"Загрузка ViT-GPT2 модели\"\"\"\n",
        "    vit_gpt2_model = VisionEncoderDecoderModel.from_pretrained(\n",
        "        \"nlpconnect/vit-gpt2-image-captioning\"\n",
        "    )\n",
        "    vit_gpt2_feature_extractor = ViTImageProcessor.from_pretrained(\n",
        "        \"nlpconnect/vit-gpt2-image-captioning\"\n",
        "    )\n",
        "    vit_gpt2_tokenizer = AutoTokenizer.from_pretrained(\n",
        "        \"nlpconnect/vit-gpt2-image-captioning\"\n",
        "    )\n",
        "    vit_gpt2_model.to(device)\n",
        "    print(\"ViT-GPT2 модель загружена\")\n",
        "    return vit_gpt2_model, vit_gpt2_feature_extractor, vit_gpt2_tokenizer"
      ],
      "metadata": {
        "id": "V2DUi1OWmvP2"
      },
      "execution_count": 13,
      "outputs": []
    },
    {
      "cell_type": "markdown",
      "source": [
        "Функции для определения к какому классу модель классифицировала изображение:\n",
        "\n",
        "1. Blip-2\n",
        "\n",
        "2. Vit-GPT2\n",
        "\n",
        "Ответ будет исходить из парсинга данных, будут суммироваться ключевые слова, в случае равного количества - предпочтение будет отдаваться военным машинам, в случае нулевого результата - ответом будет являться гражданская машина"
      ],
      "metadata": {
        "id": "m2Ht3h6OnGPy"
      }
    },
    {
      "cell_type": "code",
      "source": [
        "def classify_from_description(description):\n",
        "    \"\"\"Классификация на основе сгенерированного описания\"\"\"\n",
        "    military_count = sum(1 for word in military_keywords if word in description.lower())\n",
        "    civilian_count = sum(1 for word in civilian_keywords if word in description.lower())\n",
        "\n",
        "    # Логика принятия решения\n",
        "    if military_count > civilian_count:\n",
        "        return 'military'\n",
        "    elif civilian_count > military_count:\n",
        "        return 'civilian'\n",
        "    elif military_count == civilian_count:\n",
        "        if military_count == 0:  # если оба нуля\n",
        "            return 'civilian'\n",
        "        else:  # если равны и не нули\n",
        "            return 'military'"
      ],
      "metadata": {
        "id": "f2sRXppBnGjf"
      },
      "execution_count": 14,
      "outputs": []
    },
    {
      "cell_type": "markdown",
      "source": [
        "Функции для вызова моделей и получения ответа\n",
        "\n",
        "Все ответы записываются в csv файл, исходя из того, что у моделей есть ограничения на вызовы. В случае того, если будем что-то править, необходимо не вызывать модели повторно, а просто открыть файлы с полученными ранее ответами"
      ],
      "metadata": {
        "id": "I1y5kehNoCo1"
      }
    },
    {
      "cell_type": "code",
      "source": [
        "def classify_blip2_single(image_path, blip2_processor, blip2_model):\n",
        "    \"\"\"Классификация одного изображения с помощью BLIP-2\"\"\"\n",
        "    try:\n",
        "        image = Image.open(image_path).convert('RGB')\n",
        "\n",
        "\n",
        "        inputs = blip2_processor(\n",
        "            images=image,\n",
        "            #text=prompt,\n",
        "            return_tensors=\"pt\"\n",
        "        ).to(device, torch.float16)\n",
        "\n",
        "        generated_ids = blip2_model.generate(\n",
        "            **inputs,\n",
        "            max_new_tokens=20,\n",
        "            num_beams=5,\n",
        "            early_stopping=True\n",
        "        )\n",
        "        generated_text = blip2_processor.batch_decode(\n",
        "            generated_ids, skip_special_tokens=True\n",
        "        )[0].strip()\n",
        "\n",
        "        print(generated_text)\n",
        "        return classify_from_description(generated_text)\n",
        "\n",
        "    except Exception as e:\n",
        "        print(f\"Ошибка обработки {image_path} с BLIP-2: {e}\")\n",
        "        return \"error\"\n",
        "\n",
        "def classify_vit_gpt2_single(image_path, vit_gpt2_model, vit_gpt2_feature_extractor, vit_gpt2_tokenizer):\n",
        "    \"\"\"Классификация одного изображения с помощью ViT-GPT2\"\"\"\n",
        "    try:\n",
        "        image = Image.open(image_path).convert('RGB')\n",
        "\n",
        "        # Генерируем описание изображения\n",
        "        pixel_values = vit_gpt2_feature_extractor(\n",
        "            images=image, return_tensors=\"pt\"\n",
        "        ).pixel_values.to(device)\n",
        "\n",
        "        generated_ids = vit_gpt2_model.generate(\n",
        "            pixel_values,\n",
        "            max_length=100,\n",
        "            num_beams=4,\n",
        "            early_stopping=True\n",
        "        )\n",
        "        generated_text = vit_gpt2_tokenizer.batch_decode(\n",
        "            generated_ids, skip_special_tokens=True\n",
        "        )[0].strip()\n",
        "        print(generated_text)\n",
        "\n",
        "        return classify_from_description(generated_text)\n",
        "\n",
        "    except Exception as e:\n",
        "        print(f\"Ошибка обработки {image_path} с ViT-GPT2: {e}\")\n",
        "        return \"civilian\"\n",
        "\n",
        "\n",
        "def get_blip2_predictions(image_folder, output_file='blip_predictions.csv'):\n",
        "    \"\"\"Получение ответов BLIP-2 и сохранение в CSV\"\"\"\n",
        "\n",
        "    # Загрузка модели\n",
        "    blip2_processor, blip2_model = load_blip2_model()\n",
        "\n",
        "    # Получение списка изображений\n",
        "    image_files = [f for f in os.listdir(image_folder) if f.lower().endswith(('.jpg'))]\n",
        "    image_files.sort(key=lambda x: int(os.path.splitext(x)[0]))\n",
        "\n",
        "    print(f\"Blip-2. Найдено {len(image_files)} изображений\")\n",
        "\n",
        "    results = []\n",
        "\n",
        "    for image_file in image_files:\n",
        "        photo_num = os.path.splitext(image_file)[0]\n",
        "        image_path = os.path.join(image_folder, image_file)\n",
        "\n",
        "        # Классификация BLIP-2\n",
        "        prediction = classify_blip2_single(image_path, blip2_processor, blip2_model)\n",
        "\n",
        "        results.append({\n",
        "            'номер фото': photo_num,\n",
        "            'ответ модели': prediction\n",
        "        })\n",
        "\n",
        "\n",
        "        print(f\"Обработано фото {image_path}: {prediction}\")\n",
        "\n",
        "    # Сохранение в CSV\n",
        "    results_df = pd.DataFrame(results)\n",
        "    results_df.to_csv(output_file, index=False)\n",
        "    print(f\"Предсказания BLIP-2 сохранены в {output_file}\")\n",
        "\n",
        "    return results_df\n",
        "\n",
        "def get_vit_gpt2_predictions(image_folder, output_file='gpt_predictions.csv'):\n",
        "    \"\"\"Получение предсказаний ViT-GPT2 и сохранение в CSV\"\"\"\n",
        "\n",
        "    # Загрузка модели\n",
        "    vit_gpt2_model, vit_gpt2_feature_extractor, vit_gpt2_tokenizer = load_vit_gpt2_model()\n",
        "\n",
        "    # Получение списка изображений\n",
        "    image_files = [f for f in os.listdir(image_folder) if f.lower().endswith(('.jpg'))]\n",
        "    image_files.sort(key=lambda x: int(os.path.splitext(x)[0]))\n",
        "\n",
        "    print(f\"Vit-GPT2. Найдено {len(image_files)} изображений\")\n",
        "\n",
        "    results = []\n",
        "\n",
        "    for image_file in image_files:\n",
        "        photo_num = os.path.splitext(image_file)[0]\n",
        "        image_path = os.path.join(image_folder, image_file)\n",
        "\n",
        "        # Классификация ViT-GPT2\n",
        "        prediction = classify_vit_gpt2_single(image_path, vit_gpt2_model, vit_gpt2_feature_extractor, vit_gpt2_tokenizer)\n",
        "\n",
        "        results.append({\n",
        "            'номер фото': photo_num,\n",
        "            'ответ модели': prediction\n",
        "        })\n",
        "\n",
        "\n",
        "        print(f\"Обработано фото {image_path}: {prediction}\")\n",
        "\n",
        "    # Сохранение в CSV\n",
        "    results_df = pd.DataFrame(results)\n",
        "    results_df.to_csv(output_file, index=False)\n",
        "    print(f\"Предсказания ViT-GPT2 сохранены в {output_file}\")\n",
        "\n",
        "    return results_df\n",
        "\n"
      ],
      "metadata": {
        "id": "-yNyaYnJoC3L"
      },
      "execution_count": 16,
      "outputs": []
    },
    {
      "cell_type": "code",
      "source": [
        "image_folder = \"image\"\n",
        "blip_results = get_blip2_predictions(image_folder)\n",
        "print(\"Первые 5 предсказаний BLIP-2:\")\n",
        "print(blip_results.head())\n"
      ],
      "metadata": {
        "colab": {
          "base_uri": "https://localhost:8080/",
          "height": 1000,
          "referenced_widgets": [
            "28ca495e669e4637a736eaed98c577c0",
            "60f69ef6520649efad87f4b429bb401b",
            "2b0b02cd83d94394a1eda85db8eebcf0",
            "12c8c350bb3f4983bc0a94eba516671c",
            "099dd748696e481787b3e78f4060c9a4",
            "8040c32649ba42b0ad515ceb57c08bb4",
            "5492e8ac1e4344c892479a4c2251101f",
            "4ed6c5e00034496b8a60252726a4f291",
            "868b61995fdc47fe8680035207f3e5be",
            "b6415b59259341d4b2768806135029a8",
            "569d51d0e37f46da8e3d023111ab8897"
          ]
        },
        "id": "LyAY2YCiDGQk",
        "outputId": "2c714745-8d78-4d7d-e35c-6163a9c68375"
      },
      "execution_count": 18,
      "outputs": [
        {
          "output_type": "display_data",
          "data": {
            "text/plain": [
              "Loading checkpoint shards:   0%|          | 0/2 [00:00<?, ?it/s]"
            ],
            "application/vnd.jupyter.widget-view+json": {
              "version_major": 2,
              "version_minor": 0,
              "model_id": "28ca495e669e4637a736eaed98c577c0"
            }
          },
          "metadata": {}
        },
        {
          "output_type": "stream",
          "name": "stdout",
          "text": [
            "BLIP-2 модель загружена\n",
            "Blip-2. Найдено 30 изображений\n",
            "the 2021 kia sportage is driving down a city street\n",
            "Обработано фото image/1.jpg: civilian\n",
            "the opel is parked on the beach at sunset\n",
            "Обработано фото image/2.jpg: civilian\n",
            "2019 bmw m5 competition\n",
            "Обработано фото image/3.jpg: civilian\n",
            "a black car is parked in front of a garage\n",
            "Обработано фото image/4.jpg: civilian\n",
            "the blue ford focus is driving on the road\n",
            "Обработано фото image/5.jpg: civilian\n",
            "a silver ford fiesta is driving down the road\n",
            "Обработано фото image/6.jpg: civilian\n",
            "the new renault suv is driving down a dirt road\n",
            "Обработано фото image/7.jpg: civilian\n",
            "the white nissan qashqai is parked on the side of the road\n",
            "Обработано фото image/8.jpg: civilian\n",
            "a red car is driving down a city street\n",
            "Обработано фото image/9.jpg: civilian\n",
            "the 2020 honda accord is driving down the road\n",
            "Обработано фото image/10.jpg: civilian\n",
            "an army green jeep driving down the street\n",
            "Обработано фото image/11.jpg: military\n",
            "a military vehicle is parked in a parking lot\n",
            "Обработано фото image/12.jpg: military\n",
            "компания производи\n",
            "Обработано фото image/13.jpg: civilian\n",
            "two military vehicles are parked in front of a building\n",
            "Обработано фото image/14.jpg: military\n",
            "the vehicle is green and brown\n",
            "Обработано фото image/15.jpg: military\n",
            "a military vehicle parked in front of a building\n",
            "Обработано фото image/16.jpg: military\n",
            "this is an image of a military truck\n",
            "Обработано фото image/17.jpg: military\n",
            "an old jeep is parked in a grassy field\n",
            "Обработано фото image/18.jpg: civilian\n",
            "trees in the background\n",
            "Обработано фото image/19.jpg: civilian\n",
            "mercedes-benz g-class off-road vehicle\n",
            "Обработано фото image/20.jpg: civilian\n",
            "the toyota land cruiser is parked in the snow\n",
            "Обработано фото image/21.jpg: civilian\n",
            "a green mercedes g - class is parked on a gravel road\n",
            "Обработано фото image/22.jpg: military\n",
            "an army green jeep is parked on a white surface\n",
            "Обработано фото image/23.jpg: military\n",
            "a green suv parked in front of a glass building\n",
            "Обработано фото image/24.jpg: military\n",
            "an off - road vehicle with a camo paint job\n",
            "Обработано фото image/25.jpg: civilian\n",
            "an old military truck with a camo paint job\n",
            "Обработано фото image/26.jpg: military\n",
            "the toyota land cruiser is parked on a dirt road\n",
            "Обработано фото image/27.jpg: civilian\n",
            "a silver suv is parked near a body of water\n",
            "Обработано фото image/28.jpg: civilian\n",
            "an army green pickup truck parked on a brick driveway\n",
            "Обработано фото image/29.jpg: military\n",
            "lamborghini aventador camo\n",
            "Обработано фото image/30.jpg: civilian\n",
            "Предсказания BLIP-2 сохранены в blip_predictions.csv\n",
            "Первые 5 предсказаний BLIP-2:\n",
            "  номер фото ответ модели\n",
            "0          1     civilian\n",
            "1          2     civilian\n",
            "2          3     civilian\n",
            "3          4     civilian\n",
            "4          5     civilian\n"
          ]
        }
      ]
    },
    {
      "cell_type": "code",
      "source": [
        "vit_gpt2_results = get_vit_gpt2_predictions(image_folder)\n",
        "print(\"Первые 5 предсказаний ViT-GPT2:\")\n",
        "print(vit_gpt2_results.head())"
      ],
      "metadata": {
        "colab": {
          "base_uri": "https://localhost:8080/",
          "height": 1000,
          "referenced_widgets": [
            "ddcdb8973d234d4b981323311f92af64",
            "7e3ed7a6724f4ad6a8635400610ae940",
            "0806cd1732c24ba081d1f74b89ea9658",
            "290b8d6379d14bab8acea461c30e8f0e",
            "631264612ee8461e84f3b99634875cf4",
            "ffd6dc22352b4ce58a481cc8aa5b73d5",
            "9b8650deaf3246dea592001a686acabf",
            "8f23822859ef4c4691253b1ae5052507",
            "859804dd01434f16b04db640d0bcf296",
            "c764f7b9bd8d48a8bde7c149441af09c",
            "ca0cd816c6a248b68e1c674eb0eb365b",
            "bdc2d34451b14a4f8637816b6cfe207a",
            "cad24def25ae426d841803d1a835fe0c",
            "3fc64a5aafbf4d57bd353af7b0809b2c",
            "b20a8aabfa6e47dcb1453cb3c94809af",
            "0dc6be88502e4e608bd062ff7a0a1e83",
            "3148951bd07e4282b97283b83c86ebfd",
            "66e527fb0af547939d25b8bbe524279d",
            "211820dfef5943d193f820ad6bcb6057",
            "96b4e11a20354de998f440af09143df7",
            "73e3ab8b8c3a445a995ccb74bd016a4f",
            "5d7f1c0ea8364550aa8c4439985aba60",
            "51724deb77514e72955fb06b40a7677d",
            "72381a1bce31464b98b6b9ade3d383fa",
            "f4c93c1ce20a40898e74ef933d306abd",
            "6c9aa6110d60497b917d3a98484a0386",
            "9934f082450c4d8c9851197967caeb3b",
            "13c35ceec46f411e8b97b052009ea6c8",
            "4e0b9cad5e3642bc8cd4d4947b516b0b",
            "0d0adb1f9df84b35bf8caa5cd3b6b11e",
            "efc60b2454f74ce3bcb366ce29f1faaf",
            "eeb2bec9f314473b86dae08495fac0e9",
            "2d4f8b132e5f40fc9716723143e3fb38",
            "e6f863852f2d4ba486b62d51c88b3e22",
            "9feab0c6729245c2aaf19a269c0f7feb",
            "12ab192be0eb42328d20f126323fdef2",
            "aa10406f0b1040dca9eb77d3164a59a6",
            "031228ca1910411283e4c1f71255777c",
            "554c0caaf2e246e887a3d1f82ea175c5",
            "045bb20749c04e1ab8b5acd981f0eecc",
            "822ac00b3a8643109081148a8e7402a8",
            "b8e0ffaf6ca84a998b43254c19cb50dd",
            "db5a52de71d7412c81c049bdbff3899f",
            "b2f4b6228a434aa885a6f581c7561a03",
            "0c7803bd243642cb8fb8715e288a3f4b",
            "0b16d684d5db4237a2ec9fc280d189bc",
            "9e21fd4846854a7584131e95e10de80a",
            "68c0b0d0ab5f4722920f2780fb3d8d71",
            "21a8c1756cfd4cca99282fe7edf89be9",
            "cf91cfa6d45a40d2831cc88f09053c1b",
            "f2225f5c3d104bb78e8826ecf7f90bd6",
            "3dedb4b9b12845f5ac7328d39882dc5c",
            "81860cce375a4000a45365fb4fa82517",
            "0ce83bb368554922b237f015f5990e2b",
            "02494ec3c7cc4b0398d6be3079218a60",
            "bbb250a2792041639c02dda4c5313ea9",
            "5007b92f0fa34b31b22578a206e7635e",
            "a8342045ed464ec9a9ff898c4910a5a8",
            "c01fbea4d27a4a6589c228d31d602f18",
            "407a7615e92949fba5584a740d077b9b",
            "e37b70b6b6374a63ba1dd14af927c86f",
            "48f6c3ffa0754ab699bb3db072f48d42",
            "2336402af2e04720851c52cb2ed3ab6e",
            "beb01063cbce4f6fbca5b43e062d10d9",
            "521c25106d0642b0aeb990cc2f378f5b",
            "d4fd478c5fd04f688dda6ba0d039e7fa",
            "0b4b1e6f150348f08be242fc56428cad",
            "f826c92c501647b69bdc802e1c6f629f",
            "e95cd7d269dc4592a09ff92134aa0a96",
            "70432ec00b3945e59d7ddf4273e8ce12",
            "a71bb4b9404e44b69f3af5eb792ed24a",
            "5a83a210643c4a868083821869151600",
            "bdda280236e544a894c235608d441538",
            "084a54b345e84591a7c3bc2edf1bff09",
            "18ee4ed80fd84878b64525dc695abd68",
            "78d1c4a700ec4c79bb283f27105d168e",
            "219a842a759548f2b9311883a51f1544",
            "4f0d923a171d4eca85e520d452600181",
            "83ce50ed7ce942f3937cec3ef86a6b4d",
            "3d70c139506c494a9c8a286457d05516",
            "cec0230f026f474fb2109aeb7de19832",
            "389fcf7197a74705954059a8f0dc1bfb",
            "06b1c43ab96145d88fb944101fcf03fd",
            "d064498ce5de4ea9825c985e94c87f4d",
            "6b953dd22ec34282bcba909605916df0",
            "ca159d33a4794786a3be87e0c3bf7c96",
            "80f429aafc904d10995b9480204b1c1a",
            "912cbe06e9b442009735a0db0b5015f1",
            "62ba5cbe45eb46c89bf5bd4c81fd3add",
            "6d03842b1f9d4f21b4017293682bc3af",
            "a7b1b1faa96844469d6ccbfc3052175f",
            "fa96263ec3134d61b3f952055befa1b0",
            "c252daf3f17f4d01b4491230cc2b25e8",
            "4a1c29b94d28402e8088c7725920aa49",
            "97feacca96584a46bb88b43b9a7e299f",
            "0c42c8ca16ff4e768b73fe1965d485cc",
            "3cc3e237dd3b4d54a324cb84768beabe",
            "86f25ea2b7ba49bcbadc2ec9eecb661b",
            "ec1d2bda321f4cff99ac55dc3493d590"
          ]
        },
        "id": "kij--0LiDIfv",
        "outputId": "76faa06c-7b71-40a3-c424-e9cf9f4392c2"
      },
      "execution_count": 7,
      "outputs": [
        {
          "output_type": "display_data",
          "data": {
            "text/plain": [
              "config.json: 0.00B [00:00, ?B/s]"
            ],
            "application/vnd.jupyter.widget-view+json": {
              "version_major": 2,
              "version_minor": 0,
              "model_id": "ddcdb8973d234d4b981323311f92af64"
            }
          },
          "metadata": {}
        },
        {
          "output_type": "display_data",
          "data": {
            "text/plain": [
              "pytorch_model.bin:   0%|          | 0.00/982M [00:00<?, ?B/s]"
            ],
            "application/vnd.jupyter.widget-view+json": {
              "version_major": 2,
              "version_minor": 0,
              "model_id": "bdc2d34451b14a4f8637816b6cfe207a"
            }
          },
          "metadata": {}
        },
        {
          "output_type": "display_data",
          "data": {
            "text/plain": [
              "model.safetensors:   0%|          | 0.00/982M [00:00<?, ?B/s]"
            ],
            "application/vnd.jupyter.widget-view+json": {
              "version_major": 2,
              "version_minor": 0,
              "model_id": "51724deb77514e72955fb06b40a7677d"
            }
          },
          "metadata": {}
        },
        {
          "output_type": "display_data",
          "data": {
            "text/plain": [
              "preprocessor_config.json:   0%|          | 0.00/228 [00:00<?, ?B/s]"
            ],
            "application/vnd.jupyter.widget-view+json": {
              "version_major": 2,
              "version_minor": 0,
              "model_id": "e6f863852f2d4ba486b62d51c88b3e22"
            }
          },
          "metadata": {}
        },
        {
          "output_type": "display_data",
          "data": {
            "text/plain": [
              "tokenizer_config.json:   0%|          | 0.00/241 [00:00<?, ?B/s]"
            ],
            "application/vnd.jupyter.widget-view+json": {
              "version_major": 2,
              "version_minor": 0,
              "model_id": "0c7803bd243642cb8fb8715e288a3f4b"
            }
          },
          "metadata": {}
        },
        {
          "output_type": "display_data",
          "data": {
            "text/plain": [
              "vocab.json: 0.00B [00:00, ?B/s]"
            ],
            "application/vnd.jupyter.widget-view+json": {
              "version_major": 2,
              "version_minor": 0,
              "model_id": "bbb250a2792041639c02dda4c5313ea9"
            }
          },
          "metadata": {}
        },
        {
          "output_type": "display_data",
          "data": {
            "text/plain": [
              "merges.txt: 0.00B [00:00, ?B/s]"
            ],
            "application/vnd.jupyter.widget-view+json": {
              "version_major": 2,
              "version_minor": 0,
              "model_id": "0b4b1e6f150348f08be242fc56428cad"
            }
          },
          "metadata": {}
        },
        {
          "output_type": "display_data",
          "data": {
            "text/plain": [
              "tokenizer.json: 0.00B [00:00, ?B/s]"
            ],
            "application/vnd.jupyter.widget-view+json": {
              "version_major": 2,
              "version_minor": 0,
              "model_id": "4f0d923a171d4eca85e520d452600181"
            }
          },
          "metadata": {}
        },
        {
          "output_type": "display_data",
          "data": {
            "text/plain": [
              "special_tokens_map.json:   0%|          | 0.00/120 [00:00<?, ?B/s]"
            ],
            "application/vnd.jupyter.widget-view+json": {
              "version_major": 2,
              "version_minor": 0,
              "model_id": "62ba5cbe45eb46c89bf5bd4c81fd3add"
            }
          },
          "metadata": {}
        },
        {
          "output_type": "stream",
          "name": "stderr",
          "text": [
            "The attention mask is not set and cannot be inferred from input because pad token is same as eos token. As a consequence, you may observe unexpected behavior. Please pass your input's `attention_mask` to obtain reliable results.\n"
          ]
        },
        {
          "output_type": "stream",
          "name": "stdout",
          "text": [
            "ViT-GPT2 модель загружена\n",
            "Vit-GPT2. Найдено 30 изображений\n"
          ]
        },
        {
          "output_type": "stream",
          "name": "stderr",
          "text": [
            "We strongly recommend passing in an `attention_mask` since your input_ids may be padded. See https://huggingface.co/docs/transformers/troubleshooting#incorrect-output-when-padding-tokens-arent-masked.\n",
            "You may ignore this warning if your `pad_token_id` (50256) is identical to the `bos_token_id` (50256), `eos_token_id` (50256), or the `sep_token_id` (None), and your input is not padded.\n"
          ]
        },
        {
          "output_type": "stream",
          "name": "stdout",
          "text": [
            "a blue car is driving down the street\n",
            "Обработано фото image/1.jpg: civilian\n",
            "a small yellow car is parked on the beach\n",
            "Обработано фото image/2.jpg: civilian\n",
            "a blue car is parked in a parking lot\n",
            "Обработано фото image/3.jpg: civilian\n",
            "a black car parked next to a white car\n",
            "Обработано фото image/4.jpg: civilian\n",
            "a car that is driving down the road\n",
            "Обработано фото image/5.jpg: civilian\n",
            "a small white car parked in a parking lot\n",
            "Обработано фото image/6.jpg: civilian\n",
            "a blue pick up truck parked in a parking lot\n",
            "Обработано фото image/7.jpg: civilian\n",
            "a white car parked in front of a building\n",
            "Обработано фото image/8.jpg: civilian\n",
            "a red car parked on the side of a road\n",
            "Обработано фото image/9.jpg: civilian\n",
            "a car parked on the side of a road\n",
            "Обработано фото image/10.jpg: civilian\n",
            "an old truck is parked on the side of the road\n",
            "Обработано фото image/11.jpg: civilian\n",
            "a military vehicle is parked in a parking lot\n",
            "Обработано фото image/12.jpg: military\n",
            "a truck parked in a grassy field with people standing around\n",
            "Обработано фото image/13.jpg: civilian\n",
            "a military truck is parked in a parking lot\n",
            "Обработано фото image/14.jpg: military\n",
            "a military truck parked on the side of a road\n",
            "Обработано фото image/15.jpg: military\n",
            "a military truck parked in a parking lot\n",
            "Обработано фото image/16.jpg: military\n",
            "a military truck parked on the side of a road\n",
            "Обработано фото image/17.jpg: military\n",
            "an old truck is parked in a grassy field\n",
            "Обработано фото image/18.jpg: civilian\n",
            "a military truck parked in a grassy field\n",
            "Обработано фото image/19.jpg: military\n",
            "an old military truck parked in a parking lot\n",
            "Обработано фото image/20.jpg: military\n",
            "a large black truck parked on the side of a road\n",
            "Обработано фото image/21.jpg: civilian\n",
            "an old truck is parked on the side of the road\n",
            "Обработано фото image/22.jpg: civilian\n",
            "a large green truck parked in a parking lot\n",
            "Обработано фото image/23.jpg: military\n",
            "a green truck parked on the side of a road\n",
            "Обработано фото image/24.jpg: military\n",
            "a military truck parked on the side of a road\n",
            "Обработано фото image/25.jpg: military\n",
            "a large white truck parked in a parking lot\n",
            "Обработано фото image/26.jpg: civilian\n",
            "an old truck is parked in a field\n",
            "Обработано фото image/27.jpg: civilian\n",
            "a car parked on the side of a grass covered field\n",
            "Обработано фото image/28.jpg: civilian\n",
            "a black truck parked in front of a brick building\n",
            "Обработано фото image/29.jpg: civilian\n",
            "a car that is parked on the side of the street\n",
            "Обработано фото image/30.jpg: civilian\n",
            "Предсказания ViT-GPT2 сохранены в gpt_predictions.csv\n",
            "Первые 5 предсказаний ViT-GPT2:\n",
            "  номер фото ответ модели\n",
            "0          1     civilian\n",
            "1          2     civilian\n",
            "2          3     civilian\n",
            "3          4     civilian\n",
            "4          5     civilian\n"
          ]
        }
      ]
    },
    {
      "cell_type": "markdown",
      "source": [
        "Загрузка данных из CSV файла, а также данные для проверки результата"
      ],
      "metadata": {
        "id": "WwfZCex0okrb"
      }
    },
    {
      "cell_type": "code",
      "source": [
        "def load_true_labels(file):\n",
        "    \"\"\"Загрузка истинных меток\"\"\"\n",
        "    df = pd.read_csv(file)\n",
        "    # Преобразуем в словарь {номер_фото: метка}\n",
        "    labels_dict = {}\n",
        "    for _, row in df.iterrows():\n",
        "        photo_num = str(row['Номер фото']).split('.')[0]\n",
        "        label = row['Наименование машины'].lower()\n",
        "        labels_dict[photo_num] = label\n",
        "    return labels_dict\n",
        "\n",
        "def load_all_data(true_labels_file, blip_file, gpt_file):\n",
        "    \"\"\"Загрузка всех данных для оценки\"\"\"\n",
        "    # Истинные метки\n",
        "    true_labels = load_true_labels(true_labels_file)\n",
        "\n",
        "    # Предсказания моделей\n",
        "    blip_preds = pd.read_csv(blip_file)\n",
        "    gpt_preds = pd.read_csv(gpt_file)\n",
        "\n",
        "    # Объединение данных\n",
        "    results = []\n",
        "    for photo_num, true_label in true_labels.items():\n",
        "        blip_row = blip_preds[blip_preds['номер фото'] == int(photo_num)]\n",
        "        gpt_row = gpt_preds[gpt_preds['номер фото'] == int(photo_num)]\n",
        "\n",
        "        if not blip_row.empty and not gpt_row.empty:\n",
        "            results.append({\n",
        "                'photo_number': photo_num,\n",
        "                'true_label': true_label,\n",
        "                'blip2_pred': blip_row['ответ модели'].iloc[0],\n",
        "                'vit_gpt2_pred': gpt_row['ответ модели'].iloc[0]\n",
        "            })\n",
        "    print(results)\n",
        "    return pd.DataFrame(results)\n",
        "\n",
        "# Загрузка данных\n",
        "true_labels_file = \"dataset.csv\"\n",
        "blip_file = \"blip_predictions.csv\"\n",
        "gpt_file = \"gpt_predictions.csv\"\n",
        "\n",
        "evaluation_data = load_all_data(true_labels_file, blip_file, gpt_file)\n",
        "print(f\"Загружено {len(evaluation_data)} записей для оценки\")\n",
        "print(\"Первые 5 строк данных для оценки:\")\n",
        "print(evaluation_data.head())"
      ],
      "metadata": {
        "id": "w_LseZ5dpCbZ",
        "colab": {
          "base_uri": "https://localhost:8080/"
        },
        "outputId": "95ea239f-7f16-472c-ba3a-40ec0aa3acc5"
      },
      "execution_count": 52,
      "outputs": [
        {
          "output_type": "stream",
          "name": "stdout",
          "text": [
            "[{'photo_number': '1', 'true_label': 'civilian', 'blip2_pred': 'civilian', 'vit_gpt2_pred': 'civilian'}, {'photo_number': '2', 'true_label': 'civilian', 'blip2_pred': 'civilian', 'vit_gpt2_pred': 'civilian'}, {'photo_number': '3', 'true_label': 'civilian', 'blip2_pred': 'civilian', 'vit_gpt2_pred': 'civilian'}, {'photo_number': '4', 'true_label': 'civilian', 'blip2_pred': 'civilian', 'vit_gpt2_pred': 'civilian'}, {'photo_number': '5', 'true_label': 'civilian', 'blip2_pred': 'civilian', 'vit_gpt2_pred': 'civilian'}, {'photo_number': '6', 'true_label': 'civilian', 'blip2_pred': 'civilian', 'vit_gpt2_pred': 'civilian'}, {'photo_number': '7', 'true_label': 'civilian', 'blip2_pred': 'civilian', 'vit_gpt2_pred': 'civilian'}, {'photo_number': '8', 'true_label': 'civilian', 'blip2_pred': 'civilian', 'vit_gpt2_pred': 'civilian'}, {'photo_number': '9', 'true_label': 'civilian', 'blip2_pred': 'civilian', 'vit_gpt2_pred': 'civilian'}, {'photo_number': '10', 'true_label': 'civilian', 'blip2_pred': 'civilian', 'vit_gpt2_pred': 'civilian'}, {'photo_number': '11', 'true_label': 'military', 'blip2_pred': 'military', 'vit_gpt2_pred': 'civilian'}, {'photo_number': '12', 'true_label': 'military', 'blip2_pred': 'military', 'vit_gpt2_pred': 'military'}, {'photo_number': '13', 'true_label': 'military', 'blip2_pred': 'civilian', 'vit_gpt2_pred': 'civilian'}, {'photo_number': '14', 'true_label': 'military', 'blip2_pred': 'military', 'vit_gpt2_pred': 'military'}, {'photo_number': '15', 'true_label': 'military', 'blip2_pred': 'military', 'vit_gpt2_pred': 'military'}, {'photo_number': '16', 'true_label': 'military', 'blip2_pred': 'military', 'vit_gpt2_pred': 'military'}, {'photo_number': '17', 'true_label': 'military', 'blip2_pred': 'military', 'vit_gpt2_pred': 'military'}, {'photo_number': '18', 'true_label': 'military', 'blip2_pred': 'civilian', 'vit_gpt2_pred': 'civilian'}, {'photo_number': '19', 'true_label': 'military', 'blip2_pred': 'civilian', 'vit_gpt2_pred': 'military'}, {'photo_number': '20', 'true_label': 'military', 'blip2_pred': 'civilian', 'vit_gpt2_pred': 'military'}, {'photo_number': '21', 'true_label': 'civilian', 'blip2_pred': 'civilian', 'vit_gpt2_pred': 'civilian'}, {'photo_number': '22', 'true_label': 'civilian', 'blip2_pred': 'military', 'vit_gpt2_pred': 'civilian'}, {'photo_number': '23', 'true_label': 'civilian', 'blip2_pred': 'military', 'vit_gpt2_pred': 'military'}, {'photo_number': '24', 'true_label': 'civilian', 'blip2_pred': 'military', 'vit_gpt2_pred': 'military'}, {'photo_number': '25', 'true_label': 'civilian', 'blip2_pred': 'civilian', 'vit_gpt2_pred': 'military'}, {'photo_number': '26', 'true_label': 'civilian', 'blip2_pred': 'military', 'vit_gpt2_pred': 'civilian'}, {'photo_number': '27', 'true_label': 'civilian', 'blip2_pred': 'civilian', 'vit_gpt2_pred': 'civilian'}, {'photo_number': '28', 'true_label': 'civilian', 'blip2_pred': 'civilian', 'vit_gpt2_pred': 'civilian'}, {'photo_number': '29', 'true_label': 'civilian', 'blip2_pred': 'military', 'vit_gpt2_pred': 'civilian'}, {'photo_number': '30', 'true_label': 'civilian', 'blip2_pred': 'civilian', 'vit_gpt2_pred': 'civilian'}]\n",
            "Загружено 30 записей для оценки\n",
            "Первые 5 строк данных для оценки:\n",
            "  photo_number true_label blip2_pred vit_gpt2_pred\n",
            "0            1   civilian   civilian      civilian\n",
            "1            2   civilian   civilian      civilian\n",
            "2            3   civilian   civilian      civilian\n",
            "3            4   civilian   civilian      civilian\n",
            "4            5   civilian   civilian      civilian\n"
          ]
        }
      ]
    },
    {
      "cell_type": "markdown",
      "source": [
        "Расчет метрик и построение матрицы ошибок (confusion matrix)"
      ],
      "metadata": {
        "id": "KdJRyCV5qsPu"
      }
    },
    {
      "cell_type": "code",
      "source": [
        "def calculate_metrics_for_model(true_labels, predictions, model_name):\n",
        "    \"\"\"Расчет метрик\"\"\"\n",
        "    # Преобразуем в бинарный формат для метрик (1 - military, 0 - civilian)\n",
        "    true_binary = [1 if label == 'military' else 0 for label in true_labels]\n",
        "    pred_binary = [1 if label == 'military' else 0 for label in predictions]\n",
        "\n",
        "    accuracy = accuracy_score(true_binary, pred_binary)\n",
        "    precision = precision_score(true_binary, pred_binary, zero_division=0)\n",
        "    recall = recall_score(true_binary, pred_binary, zero_division=0)\n",
        "    cm = confusion_matrix(true_binary, pred_binary)\n",
        "\n",
        "    print(f\"\\n{model_name} Метрики:\")\n",
        "    print(f\"Accuracy:  {accuracy:.3f}\")\n",
        "    print(f\"Precision: {precision:.3f}\")\n",
        "    print(f\"Recall:    {recall:.3f}\")\n",
        "\n",
        "    return accuracy, precision, recall, cm\n",
        "\n",
        "def plot_confusion_matrices(blip2_cm, vit_gpt2_cm):\n",
        "    \"\"\"Построение матриц ошибок=\"\"\"\n",
        "    fig, (ax1, ax2) = plt.subplots(1, 2, figsize=(15, 6))\n",
        "\n",
        "    sns.heatmap(blip2_cm, annot=True, fmt='d', cmap='Blues',\n",
        "                xticklabels=['Civilian', 'Military'],\n",
        "                yticklabels=['Civilian', 'Military'], ax=ax1)\n",
        "    ax1.set_title('BLIP-2 Confusion Matrix', fontsize=14, fontweight='bold')\n",
        "    ax1.set_xlabel('Predicted', fontsize=12)\n",
        "    ax1.set_ylabel('Actual', fontsize=12)\n",
        "\n",
        "    sns.heatmap(vit_gpt2_cm, annot=True, fmt='d', cmap='Blues',\n",
        "                xticklabels=['Civilian', 'Military'],\n",
        "                yticklabels=['Civilian', 'Military'], ax=ax2)\n",
        "    ax2.set_title('ViT-GPT2 Confusion Matrix', fontsize=14, fontweight='bold')\n",
        "    ax2.set_xlabel('Predicted', fontsize=12)\n",
        "    ax2.set_ylabel('Actual', fontsize=12)\n",
        "\n",
        "    plt.tight_layout()\n",
        "    plt.savefig('confusion_matrices.png', dpi=300, bbox_inches='tight')\n",
        "    plt.show()\n"
      ],
      "metadata": {
        "id": "_bk6bzKXqsdo"
      },
      "execution_count": 60,
      "outputs": []
    },
    {
      "cell_type": "markdown",
      "source": [
        "Вывод результатов"
      ],
      "metadata": {
        "id": "1XVf_wxErJjw"
      }
    },
    {
      "cell_type": "code",
      "source": [
        "def evaluate_all_models(evaluation_df):\n",
        "    \"\"\"Оценка всех моделей\"\"\"\n",
        "    true_labels = evaluation_df['true_label']\n",
        "    blip2_preds = evaluation_df['blip2_pred']\n",
        "    vit_gpt2_preds = evaluation_df['vit_gpt2_pred']\n",
        "\n",
        "    print(\"-\"*60)\n",
        "    print(\"Результаты сравнения\")\n",
        "    print(\"-\"*60)\n",
        "\n",
        "    # Расчет метрик для BLIP-2\n",
        "    blip2_accuracy, blip2_precision, blip2_recall, blip2_cm = calculate_metrics_for_model(\n",
        "        true_labels, blip2_preds, \"BLIP-2\"\n",
        "    )\n",
        "\n",
        "    # Расчет метрик для ViT-GPT2\n",
        "    vit_gpt2_accuracy, vit_gpt2_precision, vit_gpt2_recall, vit_gpt2_cm = calculate_metrics_for_model(\n",
        "        true_labels, vit_gpt2_preds, \"ViT-GPT2\"\n",
        "    )\n",
        "\n",
        "    # Построение матриц ошибок\n",
        "    plot_confusion_matrices(blip2_cm, vit_gpt2_cm)\n",
        "\n",
        "    return {\n",
        "        'blip2': {\n",
        "            'accuracy': blip2_accuracy,\n",
        "            'precision': blip2_precision,\n",
        "            'recall': blip2_recall,\n",
        "            'confusion_matrix': blip2_cm\n",
        "        },\n",
        "        'vit_gpt2': {\n",
        "            'accuracy': vit_gpt2_accuracy,\n",
        "            'precision': vit_gpt2_precision,\n",
        "            'recall': vit_gpt2_recall,\n",
        "            'confusion_matrix': vit_gpt2_cm\n",
        "        }\n",
        "    }\n",
        "\n",
        "# Запуск оценки\n",
        "metrics = evaluate_all_models(evaluation_data)"
      ],
      "metadata": {
        "id": "rTgYCQDirIf8",
        "colab": {
          "base_uri": "https://localhost:8080/",
          "height": 545
        },
        "outputId": "6dd49c23-86c2-462e-8ac6-2cb7beddbc3d"
      },
      "execution_count": 61,
      "outputs": [
        {
          "output_type": "stream",
          "name": "stdout",
          "text": [
            "------------------------------------------------------------\n",
            "Результаты сравнения\n",
            "------------------------------------------------------------\n",
            "\n",
            "BLIP-2 Метрики:\n",
            "Accuracy:  0.700\n",
            "Precision: 0.545\n",
            "Recall:    0.600\n",
            "\n",
            "ViT-GPT2 Метрики:\n",
            "Accuracy:  0.800\n",
            "Precision: 0.700\n",
            "Recall:    0.700\n"
          ]
        },
        {
          "output_type": "display_data",
          "data": {
            "text/plain": [
              "<Figure size 1500x600 with 4 Axes>"
            ],
            "image/png": "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\n"
          },
          "metadata": {}
        }
      ]
    },
    {
      "cell_type": "markdown",
      "source": [
        "Детальный анализ ошибок. Анализ ответа на каждом изображении, так как датасет построен так: тривиальные военные машины, тривиальные гражданские машины, нетривиальные случаи.\n",
        "\n",
        "Метрики, конечно, хорошо, но хотелось бы понять, где именно моедли ошибались, в каких случаях"
      ],
      "metadata": {
        "id": "83GJXio4rbQO"
      }
    },
    {
      "cell_type": "code",
      "source": [
        "def analyze_errors(evaluation_df):\n",
        "    \"\"\"Детальный анализ ошибок\"\"\"\n",
        "\n",
        "    blip2_errors = evaluation_df[evaluation_df['true_label'] != evaluation_df['blip2_pred']]\n",
        "    vit_gpt2_errors = evaluation_df[evaluation_df['true_label'] != evaluation_df['vit_gpt2_pred']]\n",
        "\n",
        "    print(\"-\"*50)\n",
        "    print(\"Детальный анализ\")\n",
        "    print(\"-\"*50)\n",
        "\n",
        "    print(f\"\\nBLIP-2 совершил {len(blip2_errors)} ошибок:\")\n",
        "    for _, error in blip2_errors.iterrows():\n",
        "        print(f\"  Фото {error['photo_number']}: Истинный={error['true_label']}, Предсказанный={error['blip2_pred']}\")\n",
        "\n",
        "    print(f\"\\nViT-GPT2 совершил {len(vit_gpt2_errors)} ошибок:\")\n",
        "    for _, error in vit_gpt2_errors.iterrows():\n",
        "        print(f\"  Фото {error['photo_number']}: Истинный={error['true_label']}, Предсказанный={error['vit_gpt2_pred']}\")\n",
        "\n",
        "    # Общие ошибки\n",
        "    common_errors = evaluation_df[\n",
        "        (evaluation_df['true_label'] != evaluation_df['blip2_pred']) &\n",
        "        (evaluation_df['true_label'] != evaluation_df['vit_gpt2_pred'])\n",
        "    ]\n",
        "\n",
        "    print(f\"\\nОбе модели ошиблись на {len(common_errors)} фотографиях:\")\n",
        "    for _, error in common_errors.iterrows():\n",
        "        print(f\"  Фото {error['photo_number']}: Истинный={error['true_label']}\")\n",
        "\n",
        "    return blip2_errors, vit_gpt2_errors, common_errors\n",
        "\n",
        "blip2_errors, vit_gpt2_errors, common_errors = analyze_errors(evaluation_data)"
      ],
      "metadata": {
        "id": "eM4B_W5Krahu",
        "colab": {
          "base_uri": "https://localhost:8080/"
        },
        "outputId": "b1dc9675-c746-4405-daea-a190f9ac9010"
      },
      "execution_count": 66,
      "outputs": [
        {
          "output_type": "stream",
          "name": "stdout",
          "text": [
            "--------------------------------------------------\n",
            "Детальный анализ\n",
            "--------------------------------------------------\n",
            "\n",
            "BLIP-2 совершил 9 ошибок:\n",
            "  Фото 13: Истинный=military, Предсказанный=civilian\n",
            "  Фото 18: Истинный=military, Предсказанный=civilian\n",
            "  Фото 19: Истинный=military, Предсказанный=civilian\n",
            "  Фото 20: Истинный=military, Предсказанный=civilian\n",
            "  Фото 22: Истинный=civilian, Предсказанный=military\n",
            "  Фото 23: Истинный=civilian, Предсказанный=military\n",
            "  Фото 24: Истинный=civilian, Предсказанный=military\n",
            "  Фото 26: Истинный=civilian, Предсказанный=military\n",
            "  Фото 29: Истинный=civilian, Предсказанный=military\n",
            "\n",
            "ViT-GPT2 совершил 6 ошибок:\n",
            "  Фото 11: Истинный=military, Предсказанный=civilian\n",
            "  Фото 13: Истинный=military, Предсказанный=civilian\n",
            "  Фото 18: Истинный=military, Предсказанный=civilian\n",
            "  Фото 23: Истинный=civilian, Предсказанный=military\n",
            "  Фото 24: Истинный=civilian, Предсказанный=military\n",
            "  Фото 25: Истинный=civilian, Предсказанный=military\n",
            "\n",
            "Обе модели ошиблись на 4 фотографиях:\n",
            "  Фото 13: Истинный=military\n",
            "  Фото 18: Истинный=military\n",
            "  Фото 23: Истинный=civilian\n",
            "  Фото 24: Истинный=civilian\n"
          ]
        }
      ]
    },
    {
      "cell_type": "markdown",
      "source": [
        "Вывод и результаты, сходя из детального анализа"
      ],
      "metadata": {
        "id": "ODY_9engsAX-"
      }
    },
    {
      "cell_type": "code",
      "source": [
        "def create_summary_report(metrics, evaluation_data, blip2_errors, vit_gpt2_errors, common_errors):\n",
        "\n",
        "    print(\"-\"*60)\n",
        "    print(\"Сравнение моделей, исходя из детального результата и результата по метрикам\")\n",
        "    print(\"-\"*60)\n",
        "\n",
        "    print(f\"\\nОбщая статистика:\")\n",
        "    print(f\"Всего изображений: {len(evaluation_data)}\")\n",
        "    print(f\"Гражданских в датасете: {len(evaluation_data[evaluation_data['true_label'] == 'civilian'])}\")\n",
        "    print(f\"Военных в датасете: {len(evaluation_data[evaluation_data['true_label'] == 'military'])}\")\n",
        "\n",
        "    print(f\"\\nСравнение моделей:\")\n",
        "    print(f\"BLIP-2 Accuracy: {metrics['blip2']['accuracy']:.3f}\")\n",
        "    print(f\"ViT-GPT2 Accuracy: {metrics['vit_gpt2']['accuracy']:.3f}\")\n",
        "\n",
        "    if metrics['blip2']['accuracy'] > metrics['vit_gpt2']['accuracy']:\n",
        "        winner = \"BLIP-2\"\n",
        "        advantage = metrics['blip2']['accuracy'] - metrics['vit_gpt2']['accuracy']\n",
        "    else:\n",
        "        winner = \"ViT-GPT2\"\n",
        "        advantage = metrics['vit_gpt2']['accuracy'] - metrics['blip2']['accuracy']\n",
        "\n",
        "    print(f\"\\nЛучшая модель: {winner} (преимущество: {advantage:.3f})\")\n",
        "    print(f\"Общие ошибки обеих моделей: {len(common_errors)} изображений\")\n",
        "\n",
        "create_summary_report(metrics, evaluation_data, blip2_errors, vit_gpt2_errors, common_errors)"
      ],
      "metadata": {
        "id": "ZxhduqrbsAqh",
        "colab": {
          "base_uri": "https://localhost:8080/"
        },
        "outputId": "d0d053a8-272c-48c3-dfa5-0d4d0d168737"
      },
      "execution_count": 67,
      "outputs": [
        {
          "output_type": "stream",
          "name": "stdout",
          "text": [
            "------------------------------------------------------------\n",
            "Сравнение моделей, исходя из детального результата и результата по метрикам\n",
            "------------------------------------------------------------\n",
            "\n",
            "Общая статистика:\n",
            "Всего изображений: 30\n",
            "Гражданских в датасете: 20\n",
            "Военных в датасете: 10\n",
            "\n",
            "Сравнение моделей:\n",
            "BLIP-2 Accuracy: 0.700\n",
            "ViT-GPT2 Accuracy: 0.800\n",
            "\n",
            "Лучшая модель: ViT-GPT2 (преимущество: 0.100)\n",
            "Общие ошибки обеих моделей: 4 изображений\n"
          ]
        }
      ]
    }
  ]
}
